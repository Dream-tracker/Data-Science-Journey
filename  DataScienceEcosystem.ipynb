{
 "cells": [
  {
   "cell_type": "markdown",
   "id": "eef92f86-349f-4225-9caf-9af7827d50c7",
   "metadata": {},
   "source": [
    "# Data Science Tools and Ecosystem"
   ]
  },
  {
   "cell_type": "markdown",
   "id": "5303b950-7c0f-457e-a457-8fe28d708a43",
   "metadata": {},
   "source": [
    "## In this notebook, Data Science Tools and Ecosystem are summarized."
   ]
  },
  {
   "cell_type": "markdown",
   "id": "81216fd9-bd72-42c7-b1ec-206cc1a5f32e",
   "metadata": {},
   "source": [
    "**Objectives:**\n",
    "\n",
    "- List popular languages used in Data Science  \n",
    "- Introduce key tools and platforms in the Data Science ecosystem  \n",
    "- Demonstrate basic arithmetic operations using Python  \n",
    "- Convert time units through simple expressions  \n",
    "- Practice using markdown and code cells effectively in a notebook  "
   ]
  },
  {
   "cell_type": "markdown",
   "id": "bafa0453-657a-47a1-9b64-6871e60f9b8f",
   "metadata": {},
   "source": [
    "\n",
    "#### Some of the popular languages that Data Scientists use are:\n",
    "\n",
    "1. **Python** – Widely used for its simplicity and a rich ecosystem of data science libraries like pandas, NumPy, scikit-learn, and Matplotlib.\n",
    "2. **R** – Preferred for statistical analysis and data visualization, especially in academic and research settings.\n",
    "3. **SQL** – Essential for querying and managing structured data in relational databases.\n",
    "4. **Julia** – Gaining traction for high-performance numerical computing and data science tasks.\n",
    "5. **Scala** – Often used with Apache Spark for big data processing.\n"
   ]
  },
  {
   "cell_type": "markdown",
   "id": "9f80da92-e314-475f-aa2d-730f76f9c03b",
   "metadata": {},
   "source": [
    "#### Some of the commonly used libraries used by Data Scientists include:\n",
    "1. **NumPy** – Fundamental package for numerical computing, especially with arrays and matrices.\n",
    "2. **Pandas** – Powerful tool for data manipulation and analysis using DataFrames.\n",
    "3. **Matplotlib** – Core library for creating static, animated, and interactive visualizations.\n",
    "4. **Seaborn** – Built on Matplotlib, it simplifies the creation of attractive statistical plots.\n",
    "5. **Scikit-learn** – Essential for machine learning tasks like classification, regression, and clustering.\n",
    "6. **TensorFlow** – Widely used for deep learning and neural network modeling.\n",
    "7. **PyTorch** – Flexible deep learning framework favored for research and production.\n",
    "8. **Plotly** – Enables interactive, web-based visualizations and dashboards.\n"
   ]
  },
  {
   "cell_type": "markdown",
   "id": "367314fe-0825-4462-80bf-995989ed12ad",
   "metadata": {},
   "source": [
    "| Data Science Tools        |\n",
    "|---------------------------|\n",
    "| Jupyter Notebook          |\n",
    "| RStudio                   |\n",
    "| Visual Studio Code        |"
   ]
  },
  {
   "cell_type": "markdown",
   "id": "8618d541-4b8a-4eda-becd-aed10e4e6ae9",
   "metadata": {},
   "source": [
    "### Below are a few examples of evaluating arithmetic expressions in Python\n",
    "# Addition\n",
    "print(3 + 5)  # Output: 8\n",
    "\n",
    "# Subtraction\n",
    "print(10 - 4)  # Output: 6\n",
    "\n",
    "# Multiplication\n",
    "print(7 * 6)  # Output: 42\n",
    "\n",
    "# Division\n",
    "print(20 / 4)  # Output: 5.0\n",
    "\n",
    "# Floor Division\n",
    "print(20 // 3)  # Output: 6\n",
    "\n",
    "# Modulo (remainder)\n",
    "print(20 % 3)  # Output: 2\n",
    "\n",
    "# Exponentiation\n",
    "print(2 ** 3)  # Output: 8"
   ]
  },
  {
   "cell_type": "code",
   "execution_count": 1,
   "id": "558af76f-88f6-4793-ac1b-9039479cc752",
   "metadata": {},
   "outputs": [
    {
     "name": "stdout",
     "output_type": "stream",
     "text": [
      "17\n"
     ]
    }
   ],
   "source": [
    "# This is a simple arithmetic expression to multiply then add integers\n",
    "result = (3 * 4) + 5\n",
    "print(result)  # Output: 17"
   ]
  },
  {
   "cell_type": "code",
   "execution_count": 2,
   "id": "92d49277-3207-4112-b8ea-d9afafd7082e",
   "metadata": {},
   "outputs": [
    {
     "name": "stdout",
     "output_type": "stream",
     "text": [
      "3.3333333333333335\n"
     ]
    }
   ],
   "source": [
    "# This will convert 200 minutes to hours by dividing by 60\n",
    "hours = 200 / 60\n",
    "print(hours)  # Output: 3.333..."
   ]
  },
  {
   "cell_type": "markdown",
   "id": "e51a96de-68fc-42c1-9aae-b841973de079",
   "metadata": {},
   "source": [
    "## Author\n",
    "\n",
    "Adarsh"
   ]
  },
  {
   "cell_type": "code",
   "execution_count": null,
   "id": "5e29613a-f719-4823-8649-88812d0fde44",
   "metadata": {},
   "outputs": [],
   "source": []
  }
 ],
 "metadata": {
  "kernelspec": {
   "display_name": "Python 3 (ipykernel)",
   "language": "python",
   "name": "python3"
  },
  "language_info": {
   "codemirror_mode": {
    "name": "ipython",
    "version": 3
   },
   "file_extension": ".py",
   "mimetype": "text/x-python",
   "name": "python",
   "nbconvert_exporter": "python",
   "pygments_lexer": "ipython3",
   "version": "3.13.1"
  }
 },
 "nbformat": 4,
 "nbformat_minor": 5
}
